{
 "cells": [
  {
   "cell_type": "code",
   "execution_count": 23,
   "metadata": {},
   "outputs": [],
   "source": [
    "import h5netcdf \n",
    "data = h5netcdf.File(\"../CO_flow_2022.nc\", \"r\")"
   ]
  },
  {
   "cell_type": "code",
   "execution_count": 25,
   "metadata": {},
   "outputs": [
    {
     "data": {
      "text/plain": [
       "<h5netcdf.File 'CO_flow_2022.nc' (mode r)>\n",
       "Dimensions:\n",
       "    htime: <h5netcdf.Dimension 'htime': size 0 (unlimited)>\n",
       "    lat: <h5netcdf.Dimension 'lat': size 715>\n",
       "    lon: <h5netcdf.Dimension 'lon': size 1429>\n",
       "    stime: <h5netcdf.Dimension 'stime': size 92 (unlimited)>\n",
       "    timeshortFields: <h5netcdf.Dimension 'timeshortFields': size 6>\n",
       "    timestamp: <h5netcdf.Dimension 'timestamp': size 92 (unlimited)>\n",
       "Groups:\n",
       "Variables:\n",
       "    20220601_mean: ('lon', 'lat', 'timestamp') float32\n",
       "    Time: ('lon', 'lat', 'timestamp') float64\n",
       "    U: ('lon', 'lat', 'timestamp') float32\n",
       "    V: ('lon', 'lat', 'timestamp') float32\n",
       "    htime: ('htime',) float64\n",
       "    index: ('timestamp',) int32\n",
       "    lat: ('lat',) float32\n",
       "    lon: ('lon',) float32\n",
       "    stime: ('stime',) |S26\n",
       "    timeshort: ('timeshortFields', 'timestamp') int32\n",
       "    timeshortFields: ('timeshortFields',) |S1\n",
       "    timestamp: ('timestamp',) float64\n",
       "Attributes:\n",
       "    20220601_mean: '20220601_mean merged from src frames'\n",
       "    htime: 'time in source format'\n",
       "    index: 'index of original frame or -1 for interpolated frames'\n",
       "    stime: 'time in iso format ex:`2012-01-08T17:39:21` (UTC)'\n",
       "    unitsComment: 'seconds since 1970-01-01 00:00:00.0 UTC (like UNIX time)'"
      ]
     },
     "execution_count": 25,
     "metadata": {},
     "output_type": "execute_result"
    }
   ],
   "source": [
    "data"
   ]
  },
  {
   "cell_type": "code",
   "execution_count": 24,
   "metadata": {},
   "outputs": [
    {
     "data": {
      "text/plain": [
       "['20220601_mean',\n",
       " 'Time',\n",
       " 'U',\n",
       " 'V',\n",
       " 'htime',\n",
       " 'index',\n",
       " 'lat',\n",
       " 'lon',\n",
       " 'stime',\n",
       " 'timeshort',\n",
       " 'timeshortFields',\n",
       " 'timestamp']"
      ]
     },
     "execution_count": 24,
     "metadata": {},
     "output_type": "execute_result"
    }
   ],
   "source": [
    "list(data.keys())\n"
   ]
  }
 ],
 "metadata": {
  "kernelspec": {
   "display_name": ".venv",
   "language": "python",
   "name": "python3"
  },
  "language_info": {
   "codemirror_mode": {
    "name": "ipython",
    "version": 3
   },
   "file_extension": ".py",
   "mimetype": "text/x-python",
   "name": "python",
   "nbconvert_exporter": "python",
   "pygments_lexer": "ipython3",
   "version": "3.12.1"
  }
 },
 "nbformat": 4,
 "nbformat_minor": 2
}
